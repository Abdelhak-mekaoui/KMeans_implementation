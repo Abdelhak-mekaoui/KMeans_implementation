{
  "nbformat": 4,
  "nbformat_minor": 0,
  "metadata": {
    "colab": {
      "provenance": [],
      "machine_shape": "hm",
      "include_colab_link": true
    },
    "kernelspec": {
      "name": "python3",
      "display_name": "Python 3"
    }
  },
  "cells": [
    {
      "cell_type": "markdown",
      "metadata": {
        "id": "view-in-github",
        "colab_type": "text"
      },
      "source": [
        "<a href=\"https://colab.research.google.com/github/Abdelhak-mekaoui/KMeans_implementation/blob/main/KMeans_implementation.ipynb\" target=\"_parent\"><img src=\"https://colab.research.google.com/assets/colab-badge.svg\" alt=\"Open In Colab\"/></a>"
      ]
    },
    {
      "cell_type": "markdown",
      "metadata": {
        "id": "0MRC0e0KhQ0S"
      },
      "source": [
        "# KMeans"
      ]
    },
    {
      "cell_type": "markdown",
      "source": [
        "**Importing the libraries**"
      ],
      "metadata": {
        "id": "qfNIey7xhoIh"
      }
    },
    {
      "cell_type": "code",
      "source": [
        "import pandas as pd\n",
        "import numpy as np\n",
        "import matplotlib.pyplot as plt"
      ],
      "metadata": {
        "id": "SSUGyJOfhntz"
      },
      "execution_count": 72,
      "outputs": []
    },
    {
      "cell_type": "code",
      "source": [
        "class myKMeans():\n",
        "  def __init__(self,n_clusters=100,max_iters=10):\n",
        "    self.n_clusters=n_clusters\n",
        "    self.centroids=np.zeros(n_clusters)\n",
        "    self.max_iters=10\n",
        "    \n",
        "  #Calcul of the square of the euclidian distance  between \n",
        "  #two arrays\n",
        "  @staticmethod\n",
        "  def sqr_euc_distance(x,y):#x,y (nd arrays)\n",
        "    assert x.shape==y.shape\n",
        "    n=len(x)\n",
        "    d=0\n",
        "    for i in range(n):\n",
        "      d+=(x[i]-y[i])**2\n",
        "    return d \n",
        "\n",
        "  def closets_centroids(self,X):\n",
        "    m,n=X.shape\n",
        "    indexes=np.zeros(m,dtype=int)\n",
        "    for i in range(m):\n",
        "      D=[self.sqr_euc_distance(X[i,:],c) for c in self.centroids]\n",
        "      indexes[i]=np.argmin(D)\n",
        "    return indexes\n",
        "\n",
        "  def update_centroids(self,X,idx):\n",
        "    m,n=X.shape\n",
        "    K=self.n_clusters\n",
        "    new = np.zeros((K,n))\n",
        "    for k in range(K):\n",
        "      pt_c = X[idx==k,:]\n",
        "      c=np.mean(pt_c,axis=0)\n",
        "\n",
        "  def fit(self,X):\n",
        "    n,m=X.shape\n",
        "    randidx = np.random.permutation(X.shape[0])\n",
        "    self.centroids = X[randidx[:5]]\n",
        "    for _ in range(self.max_iters):\n",
        "      idx=self.closets_centroids(X)\n",
        "      self.update_centroids(X,idx)\n",
        "  \n",
        "  def predict(self,X):\n",
        "    idx=self.closets_centroids(X)\n",
        "    return idx\n",
        "\n"
      ],
      "metadata": {
        "id": "WgwMYB8khlUq"
      },
      "execution_count": 73,
      "outputs": []
    },
    {
      "cell_type": "markdown",
      "source": [
        "**Testing**"
      ],
      "metadata": {
        "id": "oymGRAW5xWBF"
      }
    },
    {
      "cell_type": "code",
      "source": [
        "dataset = pd.read_csv('Mall_Customers.csv')\n",
        "X = dataset.iloc[:, [3, 4]].values"
      ],
      "metadata": {
        "id": "4oGugXyQxc7W"
      },
      "execution_count": 74,
      "outputs": []
    },
    {
      "cell_type": "code",
      "source": [
        "kmeans = myKMeans(n_clusters = 5)\n",
        "kmeans.fit(X)\n"
      ],
      "metadata": {
        "id": "mdG0LokSxgOR"
      },
      "execution_count": 75,
      "outputs": []
    },
    {
      "cell_type": "code",
      "source": [
        "y_kmeans = kmeans.predict(X)"
      ],
      "metadata": {
        "id": "9-uioLQ2zq0S"
      },
      "execution_count": 76,
      "outputs": []
    },
    {
      "cell_type": "code",
      "source": [
        "y.shape"
      ],
      "metadata": {
        "colab": {
          "base_uri": "https://localhost:8080/"
        },
        "id": "3Wv9rRQgrxRa",
        "outputId": "84c8956c-2ee5-48a2-f19f-ae2a8fc5ec1e"
      },
      "execution_count": 77,
      "outputs": [
        {
          "output_type": "execute_result",
          "data": {
            "text/plain": [
              "(200,)"
            ]
          },
          "metadata": {},
          "execution_count": 77
        }
      ]
    },
    {
      "cell_type": "code",
      "source": [
        "plt.scatter(X[y_kmeans == 0, 0], X[y_kmeans == 0, 1], s = 100, c = 'red', label = 'Cluster 1')\n",
        "plt.scatter(X[y_kmeans == 1, 0], X[y_kmeans == 1, 1], s = 100, c = 'blue', label = 'Cluster 2')\n",
        "plt.scatter(X[y_kmeans == 2, 0], X[y_kmeans == 2, 1], s = 100, c = 'green', label = 'Cluster 3')\n",
        "plt.scatter(X[y_kmeans == 3, 0], X[y_kmeans == 3, 1], s = 100, c = 'cyan', label = 'Cluster 4')\n",
        "plt.scatter(X[y_kmeans == 4, 0], X[y_kmeans == 4, 1], s = 100, c = 'magenta', label = 'Cluster 5')\n",
        "#plt.scatter(kmeans.cluster_centers_[:, 0], kmeans.cluster_centers_[:, 1], s = 300, c = 'yellow', label = 'Centroids')\n",
        "plt.title('Clusters of customers')\n",
        "plt.xlabel('Annual Income (k$)')\n",
        "plt.ylabel('Spending Score (1-100)')\n",
        "plt.legend()\n",
        "plt.show()"
      ],
      "metadata": {
        "colab": {
          "base_uri": "https://localhost:8080/",
          "height": 295
        },
        "id": "BRrx3WnBryHn",
        "outputId": "73ac0fd0-a86f-4490-de44-115f187ca7ad"
      },
      "execution_count": 78,
      "outputs": [
        {
          "output_type": "display_data",
          "data": {
            "text/plain": [
              "<Figure size 432x288 with 1 Axes>"
            ],
            "image/png": "[encoded data removed]"
          },
          "metadata": {
            "needs_background": "light"
          }
        }
      ]
    },
    {
      "cell_type": "code",
      "source": [],
      "metadata": {
        "id": "rTsrJCgXv_BO"
      },
      "execution_count": 78,
      "outputs": []
    }
  ]
}